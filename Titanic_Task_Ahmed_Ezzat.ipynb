{
 "cells": [
  {
   "cell_type": "code",
   "execution_count": 362,
   "id": "1a04168c-5a36-4412-b011-056bf4d7010c",
   "metadata": {
    "scrolled": true
   },
   "outputs": [
    {
     "data": {
      "text/html": [
       "<div>\n",
       "<style scoped>\n",
       "    .dataframe tbody tr th:only-of-type {\n",
       "        vertical-align: middle;\n",
       "    }\n",
       "\n",
       "    .dataframe tbody tr th {\n",
       "        vertical-align: top;\n",
       "    }\n",
       "\n",
       "    .dataframe thead th {\n",
       "        text-align: right;\n",
       "    }\n",
       "</style>\n",
       "<table border=\"1\" class=\"dataframe\">\n",
       "  <thead>\n",
       "    <tr style=\"text-align: right;\">\n",
       "      <th></th>\n",
       "      <th>PassengerId</th>\n",
       "      <th>Survived</th>\n",
       "      <th>Pclass</th>\n",
       "      <th>Name</th>\n",
       "      <th>Sex</th>\n",
       "      <th>Age</th>\n",
       "      <th>SibSp</th>\n",
       "      <th>Parch</th>\n",
       "      <th>Ticket</th>\n",
       "      <th>Fare</th>\n",
       "      <th>Cabin</th>\n",
       "      <th>Embarked</th>\n",
       "    </tr>\n",
       "  </thead>\n",
       "  <tbody>\n",
       "    <tr>\n",
       "      <th>0</th>\n",
       "      <td>1</td>\n",
       "      <td>0</td>\n",
       "      <td>3</td>\n",
       "      <td>Braund, Mr. Owen Harris</td>\n",
       "      <td>male</td>\n",
       "      <td>22.0</td>\n",
       "      <td>1</td>\n",
       "      <td>0</td>\n",
       "      <td>A/5 21171</td>\n",
       "      <td>7.2500</td>\n",
       "      <td>NaN</td>\n",
       "      <td>S</td>\n",
       "    </tr>\n",
       "    <tr>\n",
       "      <th>1</th>\n",
       "      <td>2</td>\n",
       "      <td>1</td>\n",
       "      <td>1</td>\n",
       "      <td>Cumings, Mrs. John Bradley (Florence Briggs Th...</td>\n",
       "      <td>female</td>\n",
       "      <td>38.0</td>\n",
       "      <td>1</td>\n",
       "      <td>0</td>\n",
       "      <td>PC 17599</td>\n",
       "      <td>71.2833</td>\n",
       "      <td>C85</td>\n",
       "      <td>C</td>\n",
       "    </tr>\n",
       "    <tr>\n",
       "      <th>2</th>\n",
       "      <td>3</td>\n",
       "      <td>1</td>\n",
       "      <td>3</td>\n",
       "      <td>Heikkinen, Miss. Laina</td>\n",
       "      <td>female</td>\n",
       "      <td>26.0</td>\n",
       "      <td>0</td>\n",
       "      <td>0</td>\n",
       "      <td>STON/O2. 3101282</td>\n",
       "      <td>7.9250</td>\n",
       "      <td>NaN</td>\n",
       "      <td>S</td>\n",
       "    </tr>\n",
       "    <tr>\n",
       "      <th>3</th>\n",
       "      <td>4</td>\n",
       "      <td>1</td>\n",
       "      <td>1</td>\n",
       "      <td>Futrelle, Mrs. Jacques Heath (Lily May Peel)</td>\n",
       "      <td>female</td>\n",
       "      <td>35.0</td>\n",
       "      <td>1</td>\n",
       "      <td>0</td>\n",
       "      <td>113803</td>\n",
       "      <td>53.1000</td>\n",
       "      <td>C123</td>\n",
       "      <td>S</td>\n",
       "    </tr>\n",
       "    <tr>\n",
       "      <th>4</th>\n",
       "      <td>5</td>\n",
       "      <td>0</td>\n",
       "      <td>3</td>\n",
       "      <td>Allen, Mr. William Henry</td>\n",
       "      <td>male</td>\n",
       "      <td>35.0</td>\n",
       "      <td>0</td>\n",
       "      <td>0</td>\n",
       "      <td>373450</td>\n",
       "      <td>8.0500</td>\n",
       "      <td>NaN</td>\n",
       "      <td>S</td>\n",
       "    </tr>\n",
       "    <tr>\n",
       "      <th>...</th>\n",
       "      <td>...</td>\n",
       "      <td>...</td>\n",
       "      <td>...</td>\n",
       "      <td>...</td>\n",
       "      <td>...</td>\n",
       "      <td>...</td>\n",
       "      <td>...</td>\n",
       "      <td>...</td>\n",
       "      <td>...</td>\n",
       "      <td>...</td>\n",
       "      <td>...</td>\n",
       "      <td>...</td>\n",
       "    </tr>\n",
       "    <tr>\n",
       "      <th>886</th>\n",
       "      <td>887</td>\n",
       "      <td>0</td>\n",
       "      <td>2</td>\n",
       "      <td>Montvila, Rev. Juozas</td>\n",
       "      <td>male</td>\n",
       "      <td>27.0</td>\n",
       "      <td>0</td>\n",
       "      <td>0</td>\n",
       "      <td>211536</td>\n",
       "      <td>13.0000</td>\n",
       "      <td>NaN</td>\n",
       "      <td>S</td>\n",
       "    </tr>\n",
       "    <tr>\n",
       "      <th>887</th>\n",
       "      <td>888</td>\n",
       "      <td>1</td>\n",
       "      <td>1</td>\n",
       "      <td>Graham, Miss. Margaret Edith</td>\n",
       "      <td>female</td>\n",
       "      <td>19.0</td>\n",
       "      <td>0</td>\n",
       "      <td>0</td>\n",
       "      <td>112053</td>\n",
       "      <td>30.0000</td>\n",
       "      <td>B42</td>\n",
       "      <td>S</td>\n",
       "    </tr>\n",
       "    <tr>\n",
       "      <th>888</th>\n",
       "      <td>889</td>\n",
       "      <td>0</td>\n",
       "      <td>3</td>\n",
       "      <td>Johnston, Miss. Catherine Helen \"Carrie\"</td>\n",
       "      <td>female</td>\n",
       "      <td>NaN</td>\n",
       "      <td>1</td>\n",
       "      <td>2</td>\n",
       "      <td>W./C. 6607</td>\n",
       "      <td>23.4500</td>\n",
       "      <td>NaN</td>\n",
       "      <td>S</td>\n",
       "    </tr>\n",
       "    <tr>\n",
       "      <th>889</th>\n",
       "      <td>890</td>\n",
       "      <td>1</td>\n",
       "      <td>1</td>\n",
       "      <td>Behr, Mr. Karl Howell</td>\n",
       "      <td>male</td>\n",
       "      <td>26.0</td>\n",
       "      <td>0</td>\n",
       "      <td>0</td>\n",
       "      <td>111369</td>\n",
       "      <td>30.0000</td>\n",
       "      <td>C148</td>\n",
       "      <td>C</td>\n",
       "    </tr>\n",
       "    <tr>\n",
       "      <th>890</th>\n",
       "      <td>891</td>\n",
       "      <td>0</td>\n",
       "      <td>3</td>\n",
       "      <td>Dooley, Mr. Patrick</td>\n",
       "      <td>male</td>\n",
       "      <td>32.0</td>\n",
       "      <td>0</td>\n",
       "      <td>0</td>\n",
       "      <td>370376</td>\n",
       "      <td>7.7500</td>\n",
       "      <td>NaN</td>\n",
       "      <td>Q</td>\n",
       "    </tr>\n",
       "  </tbody>\n",
       "</table>\n",
       "<p>891 rows × 12 columns</p>\n",
       "</div>"
      ],
      "text/plain": [
       "     PassengerId  Survived  Pclass  \\\n",
       "0              1         0       3   \n",
       "1              2         1       1   \n",
       "2              3         1       3   \n",
       "3              4         1       1   \n",
       "4              5         0       3   \n",
       "..           ...       ...     ...   \n",
       "886          887         0       2   \n",
       "887          888         1       1   \n",
       "888          889         0       3   \n",
       "889          890         1       1   \n",
       "890          891         0       3   \n",
       "\n",
       "                                                  Name     Sex   Age  SibSp  \\\n",
       "0                              Braund, Mr. Owen Harris    male  22.0      1   \n",
       "1    Cumings, Mrs. John Bradley (Florence Briggs Th...  female  38.0      1   \n",
       "2                               Heikkinen, Miss. Laina  female  26.0      0   \n",
       "3         Futrelle, Mrs. Jacques Heath (Lily May Peel)  female  35.0      1   \n",
       "4                             Allen, Mr. William Henry    male  35.0      0   \n",
       "..                                                 ...     ...   ...    ...   \n",
       "886                              Montvila, Rev. Juozas    male  27.0      0   \n",
       "887                       Graham, Miss. Margaret Edith  female  19.0      0   \n",
       "888           Johnston, Miss. Catherine Helen \"Carrie\"  female   NaN      1   \n",
       "889                              Behr, Mr. Karl Howell    male  26.0      0   \n",
       "890                                Dooley, Mr. Patrick    male  32.0      0   \n",
       "\n",
       "     Parch            Ticket     Fare Cabin Embarked  \n",
       "0        0         A/5 21171   7.2500   NaN        S  \n",
       "1        0          PC 17599  71.2833   C85        C  \n",
       "2        0  STON/O2. 3101282   7.9250   NaN        S  \n",
       "3        0            113803  53.1000  C123        S  \n",
       "4        0            373450   8.0500   NaN        S  \n",
       "..     ...               ...      ...   ...      ...  \n",
       "886      0            211536  13.0000   NaN        S  \n",
       "887      0            112053  30.0000   B42        S  \n",
       "888      2        W./C. 6607  23.4500   NaN        S  \n",
       "889      0            111369  30.0000  C148        C  \n",
       "890      0            370376   7.7500   NaN        Q  \n",
       "\n",
       "[891 rows x 12 columns]"
      ]
     },
     "execution_count": 362,
     "metadata": {},
     "output_type": "execute_result"
    }
   ],
   "source": [
    "import pandas as pd\n",
    "import numpy as np\n",
    "import matplotlib.pyplot as plt\n",
    "import seaborn as sns\n",
    "\n",
    "df = pd.read_csv(r\"/Users/ahmedezzat/Downloads/Data Analysis/train-1.csv\",sep=\",\",encoding=\"utf-8\")\n",
    "df\n"
   ]
  },
  {
   "cell_type": "markdown",
   "id": "cc493739-4571-450d-9060-f2e4c23de188",
   "metadata": {},
   "source": [
    "## Cleaning Data"
   ]
  },
  {
   "cell_type": "code",
   "execution_count": 363,
   "id": "322c5310-3781-487f-bbb1-3d549e27f99a",
   "metadata": {},
   "outputs": [],
   "source": [
    "#Check and Remove Duplicates\n",
    "df.duplicated().sum()\n",
    "df.drop_duplicates(inplace=True)"
   ]
  },
  {
   "cell_type": "markdown",
   "id": "8d5f94a8-4a02-41a9-92b8-497874ce7bd7",
   "metadata": {},
   "source": [
    "## 1- Change in-correct data types\n"
   ]
  },
  {
   "cell_type": "code",
   "execution_count": 364,
   "id": "ad9961a5-ce13-4d7f-b136-6a58e22ba743",
   "metadata": {},
   "outputs": [
    {
     "data": {
      "text/html": [
       "<div>\n",
       "<style scoped>\n",
       "    .dataframe tbody tr th:only-of-type {\n",
       "        vertical-align: middle;\n",
       "    }\n",
       "\n",
       "    .dataframe tbody tr th {\n",
       "        vertical-align: top;\n",
       "    }\n",
       "\n",
       "    .dataframe thead th {\n",
       "        text-align: right;\n",
       "    }\n",
       "</style>\n",
       "<table border=\"1\" class=\"dataframe\">\n",
       "  <thead>\n",
       "    <tr style=\"text-align: right;\">\n",
       "      <th></th>\n",
       "      <th>PassengerId</th>\n",
       "      <th>Survived</th>\n",
       "      <th>Pclass</th>\n",
       "      <th>Name</th>\n",
       "      <th>Sex</th>\n",
       "      <th>Age</th>\n",
       "      <th>SibSp</th>\n",
       "      <th>Parch</th>\n",
       "      <th>Ticket</th>\n",
       "      <th>Fare</th>\n",
       "      <th>Cabin</th>\n",
       "      <th>Embarked</th>\n",
       "    </tr>\n",
       "  </thead>\n",
       "  <tbody>\n",
       "    <tr>\n",
       "      <th>Dtypes</th>\n",
       "      <td>int64</td>\n",
       "      <td>int64</td>\n",
       "      <td>int64</td>\n",
       "      <td>object</td>\n",
       "      <td>object</td>\n",
       "      <td>float64</td>\n",
       "      <td>int64</td>\n",
       "      <td>int64</td>\n",
       "      <td>object</td>\n",
       "      <td>float64</td>\n",
       "      <td>object</td>\n",
       "      <td>object</td>\n",
       "    </tr>\n",
       "    <tr>\n",
       "      <th>Num_unique</th>\n",
       "      <td>891</td>\n",
       "      <td>2</td>\n",
       "      <td>3</td>\n",
       "      <td>891</td>\n",
       "      <td>2</td>\n",
       "      <td>88</td>\n",
       "      <td>7</td>\n",
       "      <td>7</td>\n",
       "      <td>681</td>\n",
       "      <td>248</td>\n",
       "      <td>147</td>\n",
       "      <td>3</td>\n",
       "    </tr>\n",
       "  </tbody>\n",
       "</table>\n",
       "</div>"
      ],
      "text/plain": [
       "           PassengerId Survived Pclass    Name     Sex      Age  SibSp  Parch  \\\n",
       "Dtypes           int64    int64  int64  object  object  float64  int64  int64   \n",
       "Num_unique         891        2      3     891       2       88      7      7   \n",
       "\n",
       "            Ticket     Fare   Cabin Embarked  \n",
       "Dtypes      object  float64  object   object  \n",
       "Num_unique     681      248     147        3  "
      ]
     },
     "execution_count": 364,
     "metadata": {},
     "output_type": "execute_result"
    }
   ],
   "source": [
    "# display names\n",
    "Nunique = df.nunique()\n",
    "dtypes = df.dtypes\n",
    "pd.DataFrame ({\"Dtypes\":dtypes, \"Num_unique\":Nunique   } ).T"
   ]
  },
  {
   "cell_type": "code",
   "execution_count": 376,
   "id": "7653e9da-fee6-401a-8eae-cabb60dd3e2d",
   "metadata": {},
   "outputs": [
    {
     "name": "stderr",
     "output_type": "stream",
     "text": [
      "/var/folders/12/gk_y01d977l0jb0_5w_bgbdc0000gn/T/ipykernel_35012/291350959.py:3: SettingWithCopyWarning: \n",
      "A value is trying to be set on a copy of a slice from a DataFrame.\n",
      "Try using .loc[row_indexer,col_indexer] = value instead\n",
      "\n",
      "See the caveats in the documentation: https://pandas.pydata.org/pandas-docs/stable/user_guide/indexing.html#returning-a-view-versus-a-copy\n",
      "  df[cols] = df[cols].astype('category')\n"
     ]
    },
    {
     "data": {
      "text/html": [
       "<div>\n",
       "<style scoped>\n",
       "    .dataframe tbody tr th:only-of-type {\n",
       "        vertical-align: middle;\n",
       "    }\n",
       "\n",
       "    .dataframe tbody tr th {\n",
       "        vertical-align: top;\n",
       "    }\n",
       "\n",
       "    .dataframe thead th {\n",
       "        text-align: right;\n",
       "    }\n",
       "</style>\n",
       "<table border=\"1\" class=\"dataframe\">\n",
       "  <thead>\n",
       "    <tr style=\"text-align: right;\">\n",
       "      <th></th>\n",
       "      <th>PassengerId</th>\n",
       "      <th>Survived</th>\n",
       "      <th>Pclass</th>\n",
       "      <th>Name</th>\n",
       "      <th>Sex</th>\n",
       "      <th>Age</th>\n",
       "      <th>SibSp</th>\n",
       "      <th>Parch</th>\n",
       "      <th>Ticket</th>\n",
       "      <th>Fare</th>\n",
       "      <th>Embarked</th>\n",
       "    </tr>\n",
       "  </thead>\n",
       "  <tbody>\n",
       "    <tr>\n",
       "      <th>0</th>\n",
       "      <td>int64</td>\n",
       "      <td>category</td>\n",
       "      <td>category</td>\n",
       "      <td>object</td>\n",
       "      <td>category</td>\n",
       "      <td>float64</td>\n",
       "      <td>category</td>\n",
       "      <td>category</td>\n",
       "      <td>object</td>\n",
       "      <td>float64</td>\n",
       "      <td>category</td>\n",
       "    </tr>\n",
       "  </tbody>\n",
       "</table>\n",
       "</div>"
      ],
      "text/plain": [
       "  PassengerId  Survived    Pclass    Name       Sex      Age     SibSp  \\\n",
       "0       int64  category  category  object  category  float64  category   \n",
       "\n",
       "      Parch  Ticket     Fare  Embarked  \n",
       "0  category  object  float64  category  "
      ]
     },
     "execution_count": 376,
     "metadata": {},
     "output_type": "execute_result"
    }
   ],
   "source": [
    "#convert data types\n",
    "cols = [\"Pclass\", \"SibSp\", \"Parch\", \"Sex\", \"Embarked\", \"Survived\"]\n",
    "df[cols] = df[cols].astype('category')\n",
    "pd.DataFrame(df.dtypes).T"
   ]
  },
  {
   "cell_type": "code",
   "execution_count": null,
   "id": "215646c6-c2be-4b0e-b0dc-ce9c8ecd26f9",
   "metadata": {},
   "outputs": [],
   "source": [
    "#to replace value iside a column with diff value\n",
    "#df['Survived'] = df['Survived'].replace({\n",
    "#    '0': 'Yes_Survived',\n",
    "#    '1': 'Not_Survived'\n",
    "#})\n"
   ]
  },
  {
   "cell_type": "markdown",
   "id": "f0db7cb4-0c74-4e69-82e0-82e3bd0421f0",
   "metadata": {},
   "source": [
    "## 2- Cleaning Nulls"
   ]
  },
  {
   "cell_type": "code",
   "execution_count": 366,
   "id": "496897e3-27f3-403e-9ff7-4c4fdb83b897",
   "metadata": {
    "scrolled": true
   },
   "outputs": [
    {
     "data": {
      "text/plain": [
       "PassengerId      0\n",
       "Survived         0\n",
       "Pclass           0\n",
       "Name             0\n",
       "Sex              0\n",
       "Age            177\n",
       "SibSp            0\n",
       "Parch            0\n",
       "Ticket           0\n",
       "Fare             0\n",
       "Cabin          687\n",
       "Embarked         2\n",
       "dtype: int64"
      ]
     },
     "execution_count": 366,
     "metadata": {},
     "output_type": "execute_result"
    }
   ],
   "source": [
    "#checking Nulls\n",
    "\n",
    "df.isnull().sum() \n"
   ]
  },
  {
   "cell_type": "code",
   "execution_count": 367,
   "id": "8c38ae31-f3fb-42f1-a1d0-6206c573316f",
   "metadata": {},
   "outputs": [
    {
     "data": {
      "text/html": [
       "<div>\n",
       "<style scoped>\n",
       "    .dataframe tbody tr th:only-of-type {\n",
       "        vertical-align: middle;\n",
       "    }\n",
       "\n",
       "    .dataframe tbody tr th {\n",
       "        vertical-align: top;\n",
       "    }\n",
       "\n",
       "    .dataframe thead th {\n",
       "        text-align: right;\n",
       "    }\n",
       "</style>\n",
       "<table border=\"1\" class=\"dataframe\">\n",
       "  <thead>\n",
       "    <tr style=\"text-align: right;\">\n",
       "      <th></th>\n",
       "      <th>PassengerId</th>\n",
       "      <th>Survived</th>\n",
       "      <th>Pclass</th>\n",
       "      <th>Name</th>\n",
       "      <th>Sex</th>\n",
       "      <th>Age</th>\n",
       "      <th>SibSp</th>\n",
       "      <th>Parch</th>\n",
       "      <th>Ticket</th>\n",
       "      <th>Fare</th>\n",
       "      <th>Cabin</th>\n",
       "      <th>Embarked</th>\n",
       "    </tr>\n",
       "  </thead>\n",
       "  <tbody>\n",
       "    <tr>\n",
       "      <th>number_Nulss</th>\n",
       "      <td>0.0</td>\n",
       "      <td>0.0</td>\n",
       "      <td>0.0</td>\n",
       "      <td>0.0</td>\n",
       "      <td>0.0</td>\n",
       "      <td>177.000000</td>\n",
       "      <td>0.0</td>\n",
       "      <td>0.0</td>\n",
       "      <td>0.0</td>\n",
       "      <td>0.0</td>\n",
       "      <td>687.000000</td>\n",
       "      <td>2.000000</td>\n",
       "    </tr>\n",
       "    <tr>\n",
       "      <th>Ratio</th>\n",
       "      <td>0.0</td>\n",
       "      <td>0.0</td>\n",
       "      <td>0.0</td>\n",
       "      <td>0.0</td>\n",
       "      <td>0.0</td>\n",
       "      <td>0.198653</td>\n",
       "      <td>0.0</td>\n",
       "      <td>0.0</td>\n",
       "      <td>0.0</td>\n",
       "      <td>0.0</td>\n",
       "      <td>0.771044</td>\n",
       "      <td>0.002245</td>\n",
       "    </tr>\n",
       "  </tbody>\n",
       "</table>\n",
       "</div>"
      ],
      "text/plain": [
       "              PassengerId  Survived  Pclass  Name  Sex         Age  SibSp  \\\n",
       "number_Nulss          0.0       0.0     0.0   0.0  0.0  177.000000    0.0   \n",
       "Ratio                 0.0       0.0     0.0   0.0  0.0    0.198653    0.0   \n",
       "\n",
       "              Parch  Ticket  Fare       Cabin  Embarked  \n",
       "number_Nulss    0.0     0.0   0.0  687.000000  2.000000  \n",
       "Ratio           0.0     0.0   0.0    0.771044  0.002245  "
      ]
     },
     "execution_count": 367,
     "metadata": {},
     "output_type": "execute_result"
    }
   ],
   "source": [
    "Nnulls= df.isnull().sum()\n",
    "ratio = Nnulls/df.shape[0]\n",
    "pd.DataFrame({\"number_Nulss\":Nnulls, \"Ratio\":ratio}).T"
   ]
  },
  {
   "cell_type": "code",
   "execution_count": 368,
   "id": "6269261d-3c4c-4ca5-bb85-a56a172c1038",
   "metadata": {},
   "outputs": [],
   "source": [
    "#Remove the columns that most of their values are nulls\n",
    "#Drop column 'Cabin' \n",
    "\n",
    "df.drop(columns=['Cabin'],inplace=True)"
   ]
  },
  {
   "cell_type": "code",
   "execution_count": 369,
   "id": "591851ca-c81e-4eaf-90ed-2d217c0eabb8",
   "metadata": {
    "collapsed": true,
    "jupyter": {
     "outputs_hidden": true
    },
    "scrolled": true
   },
   "outputs": [
    {
     "name": "stderr",
     "output_type": "stream",
     "text": [
      "/var/folders/12/gk_y01d977l0jb0_5w_bgbdc0000gn/T/ipykernel_35012/2832597767.py:3: FutureWarning: A value is trying to be set on a copy of a DataFrame or Series through chained assignment using an inplace method.\n",
      "The behavior will change in pandas 3.0. This inplace method will never work because the intermediate object on which we are setting values always behaves as a copy.\n",
      "\n",
      "For example, when doing 'df[col].method(value, inplace=True)', try using 'df.method({col: value}, inplace=True)' or df[col] = df[col].method(value) instead, to perform the operation inplace on the original object.\n",
      "\n",
      "\n",
      "  df['Age'].fillna(median, inplace=True)\n"
     ]
    }
   ],
   "source": [
    "#Fill the Null cells of 'Age' since ratio of nulls is 19% only!\n",
    "median= df['Age'].median()\n",
    "df['Age'].fillna(median, inplace=True)\n"
   ]
  },
  {
   "cell_type": "code",
   "execution_count": 206,
   "id": "ea92e774-b916-4d23-a98e-1b934c7d258b",
   "metadata": {},
   "outputs": [
    {
     "data": {
      "text/html": [
       "<div>\n",
       "<style scoped>\n",
       "    .dataframe tbody tr th:only-of-type {\n",
       "        vertical-align: middle;\n",
       "    }\n",
       "\n",
       "    .dataframe tbody tr th {\n",
       "        vertical-align: top;\n",
       "    }\n",
       "\n",
       "    .dataframe thead th {\n",
       "        text-align: right;\n",
       "    }\n",
       "</style>\n",
       "<table border=\"1\" class=\"dataframe\">\n",
       "  <thead>\n",
       "    <tr style=\"text-align: right;\">\n",
       "      <th></th>\n",
       "      <th>PassengerId</th>\n",
       "      <th>Survived</th>\n",
       "      <th>Pclass</th>\n",
       "      <th>Name</th>\n",
       "      <th>Sex</th>\n",
       "      <th>Age</th>\n",
       "      <th>SibSp</th>\n",
       "      <th>Parch</th>\n",
       "      <th>Ticket</th>\n",
       "      <th>Fare</th>\n",
       "      <th>Embarked</th>\n",
       "    </tr>\n",
       "  </thead>\n",
       "  <tbody>\n",
       "    <tr>\n",
       "      <th>0</th>\n",
       "      <td>0</td>\n",
       "      <td>0</td>\n",
       "      <td>0</td>\n",
       "      <td>0</td>\n",
       "      <td>0</td>\n",
       "      <td>0</td>\n",
       "      <td>0</td>\n",
       "      <td>0</td>\n",
       "      <td>0</td>\n",
       "      <td>0</td>\n",
       "      <td>2</td>\n",
       "    </tr>\n",
       "  </tbody>\n",
       "</table>\n",
       "</div>"
      ],
      "text/plain": [
       "   PassengerId  Survived  Pclass  Name  Sex  Age  SibSp  Parch  Ticket  Fare  \\\n",
       "0            0         0       0     0    0    0      0      0       0     0   \n",
       "\n",
       "   Embarked  \n",
       "0         2  "
      ]
     },
     "execution_count": 206,
     "metadata": {},
     "output_type": "execute_result"
    }
   ],
   "source": [
    "pd.DataFrame(df.isnull().sum()).T"
   ]
  },
  {
   "cell_type": "code",
   "execution_count": 370,
   "id": "e11fa2b9-f082-4e81-a5de-9276d9f0818c",
   "metadata": {
    "scrolled": true
   },
   "outputs": [],
   "source": [
    "#Drop nulls of exact column 'Embarked'\n",
    "df= df.dropna(subset=['Embarked'])\n"
   ]
  },
  {
   "cell_type": "code",
   "execution_count": 371,
   "id": "e8e9df19-f321-44fa-a75e-0a993a9c1b02",
   "metadata": {},
   "outputs": [
    {
     "data": {
      "text/plain": [
       "PassengerId    0\n",
       "Survived       0\n",
       "Pclass         0\n",
       "Name           0\n",
       "Sex            0\n",
       "Age            0\n",
       "SibSp          0\n",
       "Parch          0\n",
       "Ticket         0\n",
       "Fare           0\n",
       "Embarked       0\n",
       "dtype: int64"
      ]
     },
     "execution_count": 371,
     "metadata": {},
     "output_type": "execute_result"
    }
   ],
   "source": [
    "#Check that there are no more nulls\n",
    "df.isnull().sum()\n"
   ]
  },
  {
   "cell_type": "markdown",
   "id": "5ff1395a-29cc-4f7c-a39d-3a8835e92f34",
   "metadata": {},
   "source": [
    "## 3-Handeling Outliars\n"
   ]
  },
  {
   "cell_type": "code",
   "execution_count": 372,
   "id": "d1230bce-8e90-44d5-b081-48eb69c93d03",
   "metadata": {},
   "outputs": [
    {
     "data": {
      "image/png": "[encoded data removed]",
      "text/plain": [
       "<Figure size 800x100 with 2 Axes>"
      ]
     },
     "metadata": {},
     "output_type": "display_data"
    }
   ],
   "source": [
    "#Check outliars\n",
    "num_cols = df.select_dtypes(\"float\").columns\n",
    "plt.figure(figsize=(8, 1))\n",
    "for i, col in enumerate(num_cols):\n",
    "    plt.subplot(1, 2, i+1)\n",
    "    sns.boxplot(df[col], orient=\"h\")\n",
    "    plt.title(f\"{col} boxplot\")"
   ]
  },
  {
   "cell_type": "code",
   "execution_count": 373,
   "id": "59d27a38-6339-4cf0-a3b0-fc3c700570cd",
   "metadata": {
    "collapsed": true,
    "jupyter": {
     "outputs_hidden": true
    }
   },
   "outputs": [
    {
     "name": "stderr",
     "output_type": "stream",
     "text": [
      "/var/folders/12/gk_y01d977l0jb0_5w_bgbdc0000gn/T/ipykernel_35012/3205967398.py:10: FutureWarning: A value is trying to be set on a copy of a DataFrame or Series through chained assignment using an inplace method.\n",
      "The behavior will change in pandas 3.0. This inplace method will never work because the intermediate object on which we are setting values always behaves as a copy.\n",
      "\n",
      "For example, when doing 'df[col].method(value, inplace=True)', try using 'df.method({col: value}, inplace=True)' or df[col] = df[col].method(value) instead, to perform the operation inplace on the original object.\n",
      "\n",
      "\n",
      "  df[col].replace(Lower_Outliers, Lower_Fence, inplace=True)\n",
      "/var/folders/12/gk_y01d977l0jb0_5w_bgbdc0000gn/T/ipykernel_35012/3205967398.py:10: SettingWithCopyWarning: \n",
      "A value is trying to be set on a copy of a slice from a DataFrame\n",
      "\n",
      "See the caveats in the documentation: https://pandas.pydata.org/pandas-docs/stable/user_guide/indexing.html#returning-a-view-versus-a-copy\n",
      "  df[col].replace(Lower_Outliers, Lower_Fence, inplace=True)\n",
      "/var/folders/12/gk_y01d977l0jb0_5w_bgbdc0000gn/T/ipykernel_35012/3205967398.py:11: FutureWarning: A value is trying to be set on a copy of a DataFrame or Series through chained assignment using an inplace method.\n",
      "The behavior will change in pandas 3.0. This inplace method will never work because the intermediate object on which we are setting values always behaves as a copy.\n",
      "\n",
      "For example, when doing 'df[col].method(value, inplace=True)', try using 'df.method({col: value}, inplace=True)' or df[col] = df[col].method(value) instead, to perform the operation inplace on the original object.\n",
      "\n",
      "\n",
      "  df[col].replace(Upper_Outliers, Upper_Fence, inplace=True)\n",
      "/var/folders/12/gk_y01d977l0jb0_5w_bgbdc0000gn/T/ipykernel_35012/3205967398.py:11: SettingWithCopyWarning: \n",
      "A value is trying to be set on a copy of a slice from a DataFrame\n",
      "\n",
      "See the caveats in the documentation: https://pandas.pydata.org/pandas-docs/stable/user_guide/indexing.html#returning-a-view-versus-a-copy\n",
      "  df[col].replace(Upper_Outliers, Upper_Fence, inplace=True)\n",
      "/var/folders/12/gk_y01d977l0jb0_5w_bgbdc0000gn/T/ipykernel_35012/3205967398.py:10: FutureWarning: A value is trying to be set on a copy of a DataFrame or Series through chained assignment using an inplace method.\n",
      "The behavior will change in pandas 3.0. This inplace method will never work because the intermediate object on which we are setting values always behaves as a copy.\n",
      "\n",
      "For example, when doing 'df[col].method(value, inplace=True)', try using 'df.method({col: value}, inplace=True)' or df[col] = df[col].method(value) instead, to perform the operation inplace on the original object.\n",
      "\n",
      "\n",
      "  df[col].replace(Lower_Outliers, Lower_Fence, inplace=True)\n",
      "/var/folders/12/gk_y01d977l0jb0_5w_bgbdc0000gn/T/ipykernel_35012/3205967398.py:10: SettingWithCopyWarning: \n",
      "A value is trying to be set on a copy of a slice from a DataFrame\n",
      "\n",
      "See the caveats in the documentation: https://pandas.pydata.org/pandas-docs/stable/user_guide/indexing.html#returning-a-view-versus-a-copy\n",
      "  df[col].replace(Lower_Outliers, Lower_Fence, inplace=True)\n",
      "/var/folders/12/gk_y01d977l0jb0_5w_bgbdc0000gn/T/ipykernel_35012/3205967398.py:11: FutureWarning: A value is trying to be set on a copy of a DataFrame or Series through chained assignment using an inplace method.\n",
      "The behavior will change in pandas 3.0. This inplace method will never work because the intermediate object on which we are setting values always behaves as a copy.\n",
      "\n",
      "For example, when doing 'df[col].method(value, inplace=True)', try using 'df.method({col: value}, inplace=True)' or df[col] = df[col].method(value) instead, to perform the operation inplace on the original object.\n",
      "\n",
      "\n",
      "  df[col].replace(Upper_Outliers, Upper_Fence, inplace=True)\n",
      "/var/folders/12/gk_y01d977l0jb0_5w_bgbdc0000gn/T/ipykernel_35012/3205967398.py:11: SettingWithCopyWarning: \n",
      "A value is trying to be set on a copy of a slice from a DataFrame\n",
      "\n",
      "See the caveats in the documentation: https://pandas.pydata.org/pandas-docs/stable/user_guide/indexing.html#returning-a-view-versus-a-copy\n",
      "  df[col].replace(Upper_Outliers, Upper_Fence, inplace=True)\n"
     ]
    }
   ],
   "source": [
    "# Clean outliars from the data\n",
    "for col in num_cols:\n",
    "    Q1 = df[col].quantile(.25)\n",
    "    Q3 = df[col].quantile(.75)\n",
    "    IQR = Q3 - Q1\n",
    "    Lower_Fence = Q1 - 1.5 * IQR\n",
    "    Upper_Fence = Q3 + 1.5 * IQR\n",
    "    Lower_Outliers = df[df[col] < Lower_Fence][col].values\n",
    "    Upper_Outliers = df[df[col] > Upper_Fence][col].values\n",
    "    df[col].replace(Lower_Outliers, Lower_Fence, inplace=True)\n",
    "    df[col].replace(Upper_Outliers, Upper_Fence, inplace=True)"
   ]
  },
  {
   "cell_type": "code",
   "execution_count": 374,
   "id": "9deb91b9-427b-4e5f-ab58-9c8325050858",
   "metadata": {
    "scrolled": true
   },
   "outputs": [
    {
     "data": {
      "image/png": "[encoded data removed]",
      "text/plain": [
       "<Figure size 800x100 with 2 Axes>"
      ]
     },
     "metadata": {},
     "output_type": "display_data"
    }
   ],
   "source": [
    "# Check that there are no outliars\n",
    "num_cols = df.select_dtypes(\"float\").columns\n",
    "plt.figure(figsize=(8, 1))\n",
    "for i, col in enumerate(num_cols):\n",
    "    plt.subplot(1, 2, i+1)\n",
    "    sns.boxplot(df[col], orient=\"h\")\n",
    "    plt.title(f\"{col} boxplot\")"
   ]
  },
  {
   "cell_type": "markdown",
   "id": "84d459e7-9420-45e0-93dd-656a52a5b273",
   "metadata": {
    "collapsed": true,
    "jupyter": {
     "outputs_hidden": true
    },
    "scrolled": true
   },
   "source": [
    "## Q&A + Visualization\n"
   ]
  },
  {
   "cell_type": "markdown",
   "id": "7148f3e0-24b6-48e0-92b6-9bb355fe1c86",
   "metadata": {
    "collapsed": true,
    "jupyter": {
     "outputs_hidden": true
    }
   },
   "source": [
    "**1.What is the approximate percentage of passengers who survived the disaster?**"
   ]
  },
  {
   "cell_type": "code",
   "execution_count": 261,
   "id": "9addf8d7-02b6-4469-a45c-1bfd1634f036",
   "metadata": {
    "scrolled": true
   },
   "outputs": [
    {
     "data": {
      "text/plain": [
       "Survived\n",
       "0    61.754781\n",
       "1    38.245219\n",
       "Name: proportion, dtype: float64"
      ]
     },
     "execution_count": 261,
     "metadata": {},
     "output_type": "execute_result"
    }
   ],
   "source": [
    "df['Survived'].value_counts(normalize=True) * 100\n",
    "\n",
    "# the percentage of survived people is about 61%"
   ]
  },
  {
   "cell_type": "code",
   "execution_count": 682,
   "id": "91b65fb1-558f-450d-9ad8-4fc20fa37bc2",
   "metadata": {
    "scrolled": true
   },
   "outputs": [
    {
     "name": "stderr",
     "output_type": "stream",
     "text": [
      "/var/folders/12/gk_y01d977l0jb0_5w_bgbdc0000gn/T/ipykernel_35012/2579704286.py:3: FutureWarning: \n",
      "\n",
      "Passing `palette` without assigning `hue` is deprecated and will be removed in v0.14.0. Assign the `x` variable to `hue` and set `legend=False` for the same effect.\n",
      "\n",
      "  sns.barplot(x=df['Survived'].value_counts().index,\n"
     ]
    },
    {
     "data": {
      "image/png": "[encoded data removed]",
      "text/plain": [
       "<Figure size 200x200 with 1 Axes>"
      ]
     },
     "metadata": {},
     "output_type": "display_data"
    }
   ],
   "source": [
    "plt.subplots(figsize=(2, 2))\n",
    "\n",
    "sns.barplot(x=df['Survived'].value_counts().index,\n",
    "            y=d1,\n",
    "            palette=['red', 'green'])\n",
    "\n",
    "plt.title('Survival Percentage')\n",
    "plt.ylabel('Percentage (%)')\n",
    "plt.xlabel('Survived (0 = No, 1 = Yes)')\n",
    "plt.show()"
   ]
  },
  {
   "cell_type": "markdown",
   "id": "ba65386e-76ca-4b86-99a2-99fd48ecd907",
   "metadata": {},
   "source": [
    "**2.Did female passengers have a higher survival rate than male passengers? Support with numbers**\n"
   ]
  },
  {
   "cell_type": "code",
   "execution_count": 458,
   "id": "9a2e546d-f145-4759-bc93-a4079976b7ff",
   "metadata": {},
   "outputs": [
    {
     "data": {
      "text/plain": [
       "Text(0, 0.5, 'Number of Survivors')"
      ]
     },
     "execution_count": 458,
     "metadata": {},
     "output_type": "execute_result"
    },
    {
     "data": {
      "image/png": "[encoded data removed]",
      "text/plain": [
       "<Figure size 400x400 with 1 Axes>"
      ]
     },
     "metadata": {},
     "output_type": "display_data"
    }
   ],
   "source": [
    "only_survived= df[df['Survived']==0]\n",
    "plt.subplots(figsize=(4, 4))\n",
    "\n",
    "sns.countplot(data=only_survived,x='Sex')\n",
    "plt.ylabel('Number of Survivors') "
   ]
  },
  {
   "cell_type": "code",
   "execution_count": 471,
   "id": "3634c764-181b-41a9-aaee-3819f294e135",
   "metadata": {},
   "outputs": [
    {
     "name": "stderr",
     "output_type": "stream",
     "text": [
      "/var/folders/12/gk_y01d977l0jb0_5w_bgbdc0000gn/T/ipykernel_35012/1526443182.py:1: FutureWarning: The default of observed=False is deprecated and will be changed to True in a future version of pandas. Pass observed=False to retain current behavior or observed=True to adopt the future default and silence this warning.\n",
      "  only_survived.groupby(['Sex'])[['Survived']].value_counts().reset_index\n"
     ]
    },
    {
     "data": {
      "text/plain": [
       "<bound method Series.reset_index of Sex     Survived\n",
       "female  0            81\n",
       "        1             0\n",
       "male    0           468\n",
       "        1             0\n",
       "Name: count, dtype: int64>"
      ]
     },
     "execution_count": 471,
     "metadata": {},
     "output_type": "execute_result"
    }
   ],
   "source": [
    "only_survived.groupby(['Sex'])[['Survived']].value_counts().reset_index\n",
    "\n",
    "#the number of survived females are 81 which is lower than the males which is 468"
   ]
  },
  {
   "cell_type": "markdown",
   "id": "55ae83c0-4d64-4689-b412-615a91eb1783",
   "metadata": {},
   "source": [
    "**4.Which passenger class (Pclass) had the highest survival rate? Which had the lowest?**"
   ]
  },
  {
   "cell_type": "code",
   "execution_count": 476,
   "id": "150d21e0-b665-4169-b4e6-a93724edcdd2",
   "metadata": {},
   "outputs": [
    {
     "name": "stderr",
     "output_type": "stream",
     "text": [
      "/var/folders/12/gk_y01d977l0jb0_5w_bgbdc0000gn/T/ipykernel_35012/2893671696.py:3: FutureWarning: \n",
      "\n",
      "Passing `palette` without assigning `hue` is deprecated and will be removed in v0.14.0. Assign the `x` variable to `hue` and set `legend=False` for the same effect.\n",
      "\n",
      "  sns.countplot(data=only_survived,x='Pclass', palette=['green', 'orange', 'red'])\n"
     ]
    },
    {
     "data": {
      "text/plain": [
       "Text(0, 0.5, 'Number of Survivors')"
      ]
     },
     "execution_count": 476,
     "metadata": {},
     "output_type": "execute_result"
    },
    {
     "data": {
      "image/png": "[encoded data removed]",
      "text/plain": [
       "<Figure size 400x400 with 1 Axes>"
      ]
     },
     "metadata": {},
     "output_type": "display_data"
    }
   ],
   "source": [
    "plt.subplots(figsize=(4, 4))\n",
    "\n",
    "sns.countplot(data=only_survived,x='Pclass', palette=['green', 'orange', 'red'])\n",
    "plt.ylabel('Number of Survivors') "
   ]
  },
  {
   "cell_type": "code",
   "execution_count": 260,
   "id": "a3707847-c87d-442c-8be1-c7ebf00a038d",
   "metadata": {
    "collapsed": true,
    "jupyter": {
     "outputs_hidden": true
    },
    "scrolled": true
   },
   "outputs": [
    {
     "name": "stderr",
     "output_type": "stream",
     "text": [
      "/var/folders/12/gk_y01d977l0jb0_5w_bgbdc0000gn/T/ipykernel_35012/3116261318.py:1: FutureWarning: The default of observed=False is deprecated and will be changed to True in a future version of pandas. Pass observed=False to retain current behavior or observed=True to adopt the future default and silence this warning.\n",
      "  df.groupby(['Pclass'])[['Survived']].value_counts().reset_index\n"
     ]
    },
    {
     "data": {
      "text/plain": [
       "<bound method Series.reset_index of Pclass  Survived\n",
       "1       1           134\n",
       "        0            80\n",
       "2       0            97\n",
       "        1            87\n",
       "3       0           372\n",
       "        1           119\n",
       "Name: count, dtype: int64>"
      ]
     },
     "execution_count": 260,
     "metadata": {},
     "output_type": "execute_result"
    }
   ],
   "source": [
    "df.groupby(['Pclass'])[['Survived']].value_counts().reset_index\n",
    "\n",
    "#class 3 has the highest survival rate\n",
    "#class 1 has the lowest survival rate"
   ]
  },
  {
   "cell_type": "markdown",
   "id": "bcb1025b-57da-45f8-8ceb-e8049a9644ee",
   "metadata": {},
   "source": [
    "**5.Did children (under 18 years old) have a better chance of survival compared to adults?**"
   ]
  },
  {
   "cell_type": "code",
   "execution_count": 443,
   "id": "4f227e6a-7367-4255-b04a-6914859e9843",
   "metadata": {
    "scrolled": true
   },
   "outputs": [
    {
     "name": "stderr",
     "output_type": "stream",
     "text": [
      "/var/folders/12/gk_y01d977l0jb0_5w_bgbdc0000gn/T/ipykernel_35012/3030521891.py:2: SettingWithCopyWarning: \n",
      "A value is trying to be set on a copy of a slice from a DataFrame.\n",
      "Try using .loc[row_indexer,col_indexer] = value instead\n",
      "\n",
      "See the caveats in the documentation: https://pandas.pydata.org/pandas-docs/stable/user_guide/indexing.html#returning-a-view-versus-a-copy\n",
      "  df['Age_interval']=pd.cut(df['Age'], bins = interval,labels=[])\n",
      "/var/folders/12/gk_y01d977l0jb0_5w_bgbdc0000gn/T/ipykernel_35012/3030521891.py:3: FutureWarning: The default of observed=False is deprecated and will be changed to True in a future version of pandas. Pass observed=False to retain current behavior or observed=True to adopt the future default and silence this warning.\n",
      "  da = df.groupby(['Survived'])[['Age_interval']].value_counts().reset_index()\n"
     ]
    },
    {
     "data": {
      "text/html": [
       "<div>\n",
       "<style scoped>\n",
       "    .dataframe tbody tr th:only-of-type {\n",
       "        vertical-align: middle;\n",
       "    }\n",
       "\n",
       "    .dataframe tbody tr th {\n",
       "        vertical-align: top;\n",
       "    }\n",
       "\n",
       "    .dataframe thead th {\n",
       "        text-align: right;\n",
       "    }\n",
       "</style>\n",
       "<table border=\"1\" class=\"dataframe\">\n",
       "  <thead>\n",
       "    <tr style=\"text-align: right;\">\n",
       "      <th></th>\n",
       "      <th>Survived</th>\n",
       "      <th>Age_interval</th>\n",
       "      <th>count</th>\n",
       "    </tr>\n",
       "  </thead>\n",
       "  <tbody>\n",
       "    <tr>\n",
       "      <th>0</th>\n",
       "      <td>0</td>\n",
       "      <td>(19, 38]</td>\n",
       "      <td>353</td>\n",
       "    </tr>\n",
       "    <tr>\n",
       "      <th>1</th>\n",
       "      <td>0</td>\n",
       "      <td>(38, 57]</td>\n",
       "      <td>111</td>\n",
       "    </tr>\n",
       "    <tr>\n",
       "      <th>2</th>\n",
       "      <td>0</td>\n",
       "      <td>(0, 19]</td>\n",
       "      <td>85</td>\n",
       "    </tr>\n",
       "    <tr>\n",
       "      <th>3</th>\n",
       "      <td>0</td>\n",
       "      <td>(57, 76]</td>\n",
       "      <td>0</td>\n",
       "    </tr>\n",
       "    <tr>\n",
       "      <th>4</th>\n",
       "      <td>1</td>\n",
       "      <td>(19, 38]</td>\n",
       "      <td>196</td>\n",
       "    </tr>\n",
       "    <tr>\n",
       "      <th>5</th>\n",
       "      <td>1</td>\n",
       "      <td>(0, 19]</td>\n",
       "      <td>79</td>\n",
       "    </tr>\n",
       "    <tr>\n",
       "      <th>6</th>\n",
       "      <td>1</td>\n",
       "      <td>(38, 57]</td>\n",
       "      <td>65</td>\n",
       "    </tr>\n",
       "    <tr>\n",
       "      <th>7</th>\n",
       "      <td>1</td>\n",
       "      <td>(57, 76]</td>\n",
       "      <td>0</td>\n",
       "    </tr>\n",
       "  </tbody>\n",
       "</table>\n",
       "</div>"
      ],
      "text/plain": [
       "  Survived Age_interval  count\n",
       "0        0     (19, 38]    353\n",
       "1        0     (38, 57]    111\n",
       "2        0      (0, 19]     85\n",
       "3        0     (57, 76]      0\n",
       "4        1     (19, 38]    196\n",
       "5        1      (0, 19]     79\n",
       "6        1     (38, 57]     65\n",
       "7        1     (57, 76]      0"
      ]
     },
     "execution_count": 443,
     "metadata": {},
     "output_type": "execute_result"
    }
   ],
   "source": [
    "interval = pd.interval_range(start=0, freq =19, end=80)\n",
    "df['Age_interval']=pd.cut(df['Age'], bins = interval,labels=[])\n",
    "da = df.groupby(['Survived'])[['Age_interval']].value_counts().reset_index()\n",
    "da.set_axis(['Survived','Age_interval','count'],axis='columns')\n",
    "da"
   ]
  },
  {
   "cell_type": "code",
   "execution_count": 279,
   "id": "85554f2e-1a6d-47d9-81d7-46ec05a852bd",
   "metadata": {},
   "outputs": [
    {
     "data": {
      "text/plain": [
       "<Axes: xlabel='Age_interval', ylabel='count'>"
      ]
     },
     "execution_count": 279,
     "metadata": {},
     "output_type": "execute_result"
    },
    {
     "data": {
      "image/png": "[encoded data removed]",
      "text/plain": [
       "<Figure size 400x400 with 1 Axes>"
      ]
     },
     "metadata": {},
     "output_type": "display_data"
    }
   ],
   "source": [
    "plt.subplots(figsize=(4, 4))\n",
    "\n",
    "sns.barplot(data=da,x='Age_interval',y='count',hue='Survived', palette=['green', 'orange'])\n",
    "\n",
    "#only about 85 children under 18 who are survided compared to the adults which were higher."
   ]
  },
  {
   "cell_type": "markdown",
   "id": "ddacd80a-f468-4c64-b24b-ac5e0b43466b",
   "metadata": {},
   "source": [
    "**6.Which embarkation port had the highest number of survivors? Are there noticeable differences between the three ports?**"
   ]
  },
  {
   "cell_type": "code",
   "execution_count": 335,
   "id": "df39fd0f-f017-4241-86b6-f5bf4e990035",
   "metadata": {},
   "outputs": [
    {
     "data": {
      "text/plain": [
       "Embarked\n",
       "S    427\n",
       "C     75\n",
       "Q     47\n",
       "Name: count, dtype: int64"
      ]
     },
     "execution_count": 335,
     "metadata": {},
     "output_type": "execute_result"
    }
   ],
   "source": [
    "survivors['Embarked'].value_counts()\n",
    "\n",
    "#Port s shows very high number of survivals in comparison with the other ports - About 427 survival (78%)  comparing 2 second highest one which is Q that is only about 75 survivals"
   ]
  },
  {
   "cell_type": "code",
   "execution_count": 477,
   "id": "5ae986c8-04b5-45fb-9773-225dd3466808",
   "metadata": {},
   "outputs": [
    {
     "data": {
      "image/png": "[encoded data removed]",
      "text/plain": [
       "<Figure size 200x200 with 1 Axes>"
      ]
     },
     "metadata": {},
     "output_type": "display_data"
    }
   ],
   "source": [
    "survivors_by_embarkation = only_survived['Embarked'].value_counts()\n",
    "plt.figure(figsize=(2,2))\n",
    "survivors_by_embarkation.plot(kind='pie', autopct='%1.1f%%', colors=['gold', 'lightblue', 'lightgreen'])\n",
    "plt.title('Survivors by Embarkation Port')\n",
    "plt.ylabel('')  # Hide the y-label\n",
    "plt.show()"
   ]
  },
  {
   "cell_type": "markdown",
   "id": "d88e769d-003c-4bee-8981-00666aba8a88",
   "metadata": {},
   "source": [
    "**7.Did passengers traveling with family members (SibSp > 0 or Parch > 0) have a better chance of survival compared to those traveling alone?**"
   ]
  },
  {
   "cell_type": "code",
   "execution_count": 381,
   "id": "6eb29648-6187-4294-a71c-dc76038b219f",
   "metadata": {
    "collapsed": true,
    "jupyter": {
     "outputs_hidden": true
    }
   },
   "outputs": [
    {
     "name": "stderr",
     "output_type": "stream",
     "text": [
      "/var/folders/12/gk_y01d977l0jb0_5w_bgbdc0000gn/T/ipykernel_35012/1004435832.py:2: SettingWithCopyWarning: \n",
      "A value is trying to be set on a copy of a slice from a DataFrame.\n",
      "Try using .loc[row_indexer,col_indexer] = value instead\n",
      "\n",
      "See the caveats in the documentation: https://pandas.pydata.org/pandas-docs/stable/user_guide/indexing.html#returning-a-view-versus-a-copy\n",
      "  df['With Family'] = np.where(\n"
     ]
    }
   ],
   "source": [
    "#I have to create another column to filter which passanger had a family members\n",
    "df['With Family'] = np.where(\n",
    "    (df['SibSp'].astype(str) != '0') | (df['Parch'].astype(str) != '0'),\n",
    "    'With Family',\n",
    "    'Alone')\n"
   ]
  },
  {
   "cell_type": "code",
   "execution_count": 405,
   "id": "ec01e36b-72d3-41a5-971c-cdab544456bf",
   "metadata": {},
   "outputs": [
    {
     "data": {
      "text/plain": [
       "<Axes: xlabel='With Family', ylabel='count'>"
      ]
     },
     "execution_count": 405,
     "metadata": {},
     "output_type": "execute_result"
    },
    {
     "data": {
      "image/png": "[encoded data removed]",
      "text/plain": [
       "<Figure size 400x400 with 1 Axes>"
      ]
     },
     "metadata": {},
     "output_type": "display_data"
    }
   ],
   "source": [
    "plt.subplots(figsize=(4, 4))\n",
    "\n",
    "sns.countplot(data=df,x='With Family',hue='Survived', palette=['red', 'orange'])\n",
    "\n",
    "#It seems that number of singel passengers had more chance to survive more then the ones who traveled with their family members "
   ]
  },
  {
   "cell_type": "markdown",
   "id": "53f18291-5b55-4f8c-a063-2a6a4837a704",
   "metadata": {},
   "source": [
    "**8.Did passengers who paid higher ticket fares have better survival chances? What could be the possible reason?**"
   ]
  },
  {
   "cell_type": "code",
   "execution_count": 487,
   "id": "2068418b-d002-461a-92e5-a0c21b89c638",
   "metadata": {},
   "outputs": [
    {
     "data": {
      "text/plain": [
       "<Axes: xlabel='Fare', ylabel='Count'>"
      ]
     },
     "execution_count": 487,
     "metadata": {},
     "output_type": "execute_result"
    },
    {
     "data": {
      "image/png": "[encoded data removed]",
      "text/plain": [
       "<Figure size 600x400 with 1 Axes>"
      ]
     },
     "metadata": {},
     "output_type": "display_data"
    }
   ],
   "source": [
    "plt.subplots(figsize=(6, 4))\n",
    "\n",
    "sns.histplot(data=only_survived,x='Fare')\n",
    "\n",
    "#it seems that passengers who paid fare between 5 to 10 are the more survivals that who paid higher ticket"
   ]
  },
  {
   "cell_type": "markdown",
   "id": "59fd2cf5-159b-4908-8484-cccebb340023",
   "metadata": {},
   "source": [
    "**9.Is there a relationship between having a recorded cabin number and the chance of survival?**"
   ]
  },
  {
   "cell_type": "code",
   "execution_count": 499,
   "id": "7da5ca10-4bf5-4a2f-b948-0d8cc352dcd9",
   "metadata": {},
   "outputs": [],
   "source": [
    "#can't understand the question"
   ]
  },
  {
   "cell_type": "markdown",
   "id": "809c941f-9f69-420a-b319-ab82d7b2582c",
   "metadata": {},
   "source": [
    "**10.What were the ages of the oldest and youngest survivors?**"
   ]
  },
  {
   "cell_type": "code",
   "execution_count": 533,
   "id": "d665bdff-4cb5-4095-8bad-c4ba7e7ed6bb",
   "metadata": {
    "collapsed": true,
    "jupyter": {
     "outputs_hidden": true
    },
    "scrolled": true
   },
   "outputs": [
    {
     "name": "stderr",
     "output_type": "stream",
     "text": [
      "/var/folders/12/gk_y01d977l0jb0_5w_bgbdc0000gn/T/ipykernel_35012/2825200547.py:1: SettingWithCopyWarning: \n",
      "A value is trying to be set on a copy of a slice from a DataFrame.\n",
      "Try using .loc[row_indexer,col_indexer] = value instead\n",
      "\n",
      "See the caveats in the documentation: https://pandas.pydata.org/pandas-docs/stable/user_guide/indexing.html#returning-a-view-versus-a-copy\n",
      "  only_survived['AgeGroup'] = np.where(only_survived['Age'] <= 19, 'Young', 'Adult')\n",
      "/var/folders/12/gk_y01d977l0jb0_5w_bgbdc0000gn/T/ipykernel_35012/2825200547.py:5: SettingWithCopyWarning: \n",
      "A value is trying to be set on a copy of a slice from a DataFrame.\n",
      "Try using .loc[row_indexer,col_indexer] = value instead\n",
      "\n",
      "See the caveats in the documentation: https://pandas.pydata.org/pandas-docs/stable/user_guide/indexing.html#returning-a-view-versus-a-copy\n",
      "  only_survived['AgeGroup'] = pd.cut(only_survived['Age'], bins=bins, labels=labels, right=True)\n"
     ]
    }
   ],
   "source": [
    "# 1.Creat column for Age Group where people who are from 0- 19 are young and above 19 are adults\n",
    "\n",
    "only_survived['AgeGroup'] = np.where(only_survived['Age'] <= 19, 'Young', 'Adult')\n",
    "\n",
    "#2. Defines the edges of intervals for ages\n",
    "bins = [0, 19, only_survived['Age'].max()] \n",
    "labels = ['Young', 'Adult']\n",
    "\n",
    "# 3.create AgeGroup based on intervals\n",
    "only_survived['AgeGroup'] = pd.cut(only_survived['Age'], bins=bins, labels=labels, right=True) \n",
    " "
   ]
  },
  {
   "cell_type": "code",
   "execution_count": 549,
   "id": "ec2a6ab7-c1b3-4936-80c6-56f40150b4ed",
   "metadata": {},
   "outputs": [
    {
     "data": {
      "image/png": "[encoded data removed]",
      "text/plain": [
       "<Figure size 1000x600 with 1 Axes>"
      ]
     },
     "metadata": {},
     "output_type": "display_data"
    }
   ],
   "source": [
    "plt.figure(figsize=(10,6))\n",
    "plt.hist(only_survived[only_survived['AgeGroup'] == 'Young']['Age'], bins=range(0,20), color='lightblue', label='Young')\n",
    "plt.hist(only_survived[only_survived['AgeGroup'] == 'Adult']['Age'],bins=range(20,int(only_survived['Age'].max())), color='orange', label='Adult')\n",
    "plt.xlabel('Age')\n",
    "plt.ylabel('Number of Survivals')\n",
    "plt.title('Age Distribution: Young vs Adult')\n",
    "plt.legend()\n",
    "plt.show()"
   ]
  },
  {
   "cell_type": "markdown",
   "id": "45c5d548-8b28-4daf-910c-483191c5d599",
   "metadata": {},
   "source": [
    "**11.What was the difference in survival rates between third-class passengers and passengers from first and second class combined?**"
   ]
  },
  {
   "cell_type": "code",
   "execution_count": 554,
   "id": "df56d981-9ddd-447d-84ac-df6b813ad982",
   "metadata": {},
   "outputs": [
    {
     "data": {
      "image/png": "[encoded data removed]",
      "text/plain": [
       "<Figure size 200x200 with 1 Axes>"
      ]
     },
     "metadata": {},
     "output_type": "display_data"
    }
   ],
   "source": [
    "survivors_by_class = only_survived['Pclass'].value_counts()\n",
    "\n",
    "plt.figure(figsize=(2,2))\n",
    "\n",
    "survivors_by_class.plot(kind='pie', autopct='%1.1f%%', colors=['orange', 'lightblue', 'lightgreen'])\n",
    "\n",
    "plt.title('Survivors by Embarkation Port')\n",
    "plt.ylabel('')  # Hide the y-label\n",
    "plt.show()"
   ]
  },
  {
   "cell_type": "markdown",
   "id": "22e7eed4-5b3d-4942-8575-6019961f9015",
   "metadata": {},
   "source": [
    "**12.Which passenger class had the highest average age? What might this suggest about the type of travelers in that class?**"
   ]
  },
  {
   "cell_type": "code",
   "execution_count": 608,
   "id": "00b5add7-c66a-4e83-a202-67d8ea9a0cf6",
   "metadata": {},
   "outputs": [
    {
     "name": "stderr",
     "output_type": "stream",
     "text": [
      "/var/folders/12/gk_y01d977l0jb0_5w_bgbdc0000gn/T/ipykernel_35012/2444089055.py:1: FutureWarning: The default of observed=False is deprecated and will be changed to True in a future version of pandas. Pass observed=False to retain current behavior or observed=True to adopt the future default and silence this warning.\n",
      "  k=df.groupby(['Pclass'])['Age'].mean()\n"
     ]
    },
    {
     "data": {
      "text/html": [
       "<div>\n",
       "<style scoped>\n",
       "    .dataframe tbody tr th:only-of-type {\n",
       "        vertical-align: middle;\n",
       "    }\n",
       "\n",
       "    .dataframe tbody tr th {\n",
       "        vertical-align: top;\n",
       "    }\n",
       "\n",
       "    .dataframe thead th {\n",
       "        text-align: right;\n",
       "    }\n",
       "</style>\n",
       "<table border=\"1\" class=\"dataframe\">\n",
       "  <thead>\n",
       "    <tr style=\"text-align: right;\">\n",
       "      <th>Pclass</th>\n",
       "      <th>1</th>\n",
       "      <th>2</th>\n",
       "      <th>3</th>\n",
       "    </tr>\n",
       "  </thead>\n",
       "  <tbody>\n",
       "    <tr>\n",
       "      <th>Age</th>\n",
       "      <td>35.806075</td>\n",
       "      <td>29.543478</td>\n",
       "      <td>25.830957</td>\n",
       "    </tr>\n",
       "  </tbody>\n",
       "</table>\n",
       "</div>"
      ],
      "text/plain": [
       "Pclass          1          2          3\n",
       "Age     35.806075  29.543478  25.830957"
      ]
     },
     "execution_count": 608,
     "metadata": {},
     "output_type": "execute_result"
    }
   ],
   "source": [
    "k=df.groupby(['Pclass'])['Age'].mean()\n",
    "y= pd.DataFrame(k).T\n",
    "y"
   ]
  },
  {
   "cell_type": "code",
   "execution_count": 582,
   "id": "53da295b-ee81-4d3c-9fbf-222bf178190f",
   "metadata": {},
   "outputs": [
    {
     "name": "stderr",
     "output_type": "stream",
     "text": [
      "/var/folders/12/gk_y01d977l0jb0_5w_bgbdc0000gn/T/ipykernel_35012/2889585617.py:2: FutureWarning: \n",
      "\n",
      "Passing `palette` without assigning `hue` is deprecated and will be removed in v0.14.0. Assign the `x` variable to `hue` and set `legend=False` for the same effect.\n",
      "\n",
      "  sns.barplot(x=k.index, y=k.values, palette='viridis')\n"
     ]
    },
    {
     "data": {
      "image/png": "[encoded data removed]",
      "text/plain": [
       "<Figure size 200x200 with 1 Axes>"
      ]
     },
     "metadata": {},
     "output_type": "display_data"
    }
   ],
   "source": [
    "plt.figure(figsize=(2,2))\n",
    "sns.barplot(x=k.index, y=k.values, palette='viridis')\n",
    "plt.xlabel('Passenger Class')\n",
    "plt.ylabel('Average Age')\n",
    "plt.title('Average Age by Passenger Class')\n",
    "plt.show()"
   ]
  },
  {
   "cell_type": "markdown",
   "id": "0b50bb36-4820-4284-8a34-0149783e58d9",
   "metadata": {},
   "source": [
    "**13.If you split passengers into three groups based on fare (Low, Medium, High), which group had the highest survival rate?**"
   ]
  },
  {
   "cell_type": "code",
   "execution_count": 607,
   "id": "dc691dd3-200e-452f-bec1-c83b9bd53f3e",
   "metadata": {},
   "outputs": [
    {
     "name": "stderr",
     "output_type": "stream",
     "text": [
      "/var/folders/12/gk_y01d977l0jb0_5w_bgbdc0000gn/T/ipykernel_35012/2800434514.py:5: SettingWithCopyWarning: \n",
      "A value is trying to be set on a copy of a slice from a DataFrame.\n",
      "Try using .loc[row_indexer,col_indexer] = value instead\n",
      "\n",
      "See the caveats in the documentation: https://pandas.pydata.org/pandas-docs/stable/user_guide/indexing.html#returning-a-view-versus-a-copy\n",
      "  only_survived[\"Fare_Group\"] = pd.qcut(only_survived[\"Fare\"], q=3, labels=[\"Low\", \"Medium\", \"High\"])\n"
     ]
    },
    {
     "data": {
      "image/png": "[encoded data removed]",
      "text/plain": [
       "<Figure size 200x200 with 1 Axes>"
      ]
     },
     "metadata": {},
     "output_type": "display_data"
    }
   ],
   "source": [
    "# \t•\tWe want to split into categories (Low, Medium, High)\n",
    "#\t•\tUse pd.qcut() → splits data into equal-sized parts (quantiles)\n",
    "# creat a new column using pd.qcut()\n",
    "\n",
    "only_survived[\"Fare_Group\"] = pd.qcut(only_survived[\"Fare\"], q=3, labels=[\"Low\", \"Medium\", \"High\"])\n",
    "\n",
    "# Calculate survival rates by fare group\n",
    "y=only_survived['Fare_Group']\n",
    "\n",
    "survivors_by_class = y.value_counts()\n",
    "\n",
    "plt.figure(figsize=(2,2))\n",
    "\n",
    "survivors_by_class.plot(kind='pie', autopct='%1.1f%%', colors=['orange', 'lightblue', 'lightgreen'])\n",
    "\n",
    "plt.title('Each Fare Group Survival Rate')\n",
    "plt.ylabel('')  # Hide the y-label\n",
    "plt.show()\n"
   ]
  },
  {
   "cell_type": "markdown",
   "id": "af96817c-827e-41e8-9865-b60e0d8bdae4",
   "metadata": {},
   "source": [
    "**14.Who were the top 10 passengers who paid the highest fares, and did they survive?**"
   ]
  },
  {
   "cell_type": "code",
   "execution_count": 642,
   "id": "bdfe55d2-bc00-41d2-acdb-05180508383f",
   "metadata": {},
   "outputs": [
    {
     "data": {
      "text/html": [
       "<div>\n",
       "<style scoped>\n",
       "    .dataframe tbody tr th:only-of-type {\n",
       "        vertical-align: middle;\n",
       "    }\n",
       "\n",
       "    .dataframe tbody tr th {\n",
       "        vertical-align: top;\n",
       "    }\n",
       "\n",
       "    .dataframe thead th {\n",
       "        text-align: right;\n",
       "    }\n",
       "</style>\n",
       "<table border=\"1\" class=\"dataframe\">\n",
       "  <thead>\n",
       "    <tr style=\"text-align: right;\">\n",
       "      <th></th>\n",
       "      <th>PassengerId</th>\n",
       "      <th>Name</th>\n",
       "      <th>Fare</th>\n",
       "      <th>Survived</th>\n",
       "    </tr>\n",
       "  </thead>\n",
       "  <tbody>\n",
       "    <tr>\n",
       "      <th>445</th>\n",
       "      <td>446</td>\n",
       "      <td>Dodge, Master. Washington</td>\n",
       "      <td>65.6563</td>\n",
       "      <td>1</td>\n",
       "    </tr>\n",
       "    <tr>\n",
       "      <th>291</th>\n",
       "      <td>292</td>\n",
       "      <td>Bishop, Mrs. Dickinson H (Helen Walton)</td>\n",
       "      <td>65.6563</td>\n",
       "      <td>1</td>\n",
       "    </tr>\n",
       "    <tr>\n",
       "      <th>299</th>\n",
       "      <td>300</td>\n",
       "      <td>Baxter, Mrs. James (Helene DeLaudeniere Chaput)</td>\n",
       "      <td>65.6563</td>\n",
       "      <td>1</td>\n",
       "    </tr>\n",
       "    <tr>\n",
       "      <th>305</th>\n",
       "      <td>306</td>\n",
       "      <td>Allison, Master. Hudson Trevor</td>\n",
       "      <td>65.6563</td>\n",
       "      <td>1</td>\n",
       "    </tr>\n",
       "    <tr>\n",
       "      <th>306</th>\n",
       "      <td>307</td>\n",
       "      <td>Fleming, Miss. Margaret</td>\n",
       "      <td>65.6563</td>\n",
       "      <td>1</td>\n",
       "    </tr>\n",
       "    <tr>\n",
       "      <th>307</th>\n",
       "      <td>308</td>\n",
       "      <td>Penasco y Castellana, Mrs. Victor de Satode (M...</td>\n",
       "      <td>65.6563</td>\n",
       "      <td>1</td>\n",
       "    </tr>\n",
       "    <tr>\n",
       "      <th>310</th>\n",
       "      <td>311</td>\n",
       "      <td>Hays, Miss. Margaret Bechstein</td>\n",
       "      <td>65.6563</td>\n",
       "      <td>1</td>\n",
       "    </tr>\n",
       "    <tr>\n",
       "      <th>311</th>\n",
       "      <td>312</td>\n",
       "      <td>Ryerson, Miss. Emily Borie</td>\n",
       "      <td>65.6563</td>\n",
       "      <td>1</td>\n",
       "    </tr>\n",
       "    <tr>\n",
       "      <th>318</th>\n",
       "      <td>319</td>\n",
       "      <td>Wick, Miss. Mary Natalie</td>\n",
       "      <td>65.6563</td>\n",
       "      <td>1</td>\n",
       "    </tr>\n",
       "    <tr>\n",
       "      <th>319</th>\n",
       "      <td>320</td>\n",
       "      <td>Spedden, Mrs. Frederic Oakley (Margaretta Corn...</td>\n",
       "      <td>65.6563</td>\n",
       "      <td>1</td>\n",
       "    </tr>\n",
       "  </tbody>\n",
       "</table>\n",
       "</div>"
      ],
      "text/plain": [
       "     PassengerId                                               Name     Fare  \\\n",
       "445          446                          Dodge, Master. Washington  65.6563   \n",
       "291          292            Bishop, Mrs. Dickinson H (Helen Walton)  65.6563   \n",
       "299          300    Baxter, Mrs. James (Helene DeLaudeniere Chaput)  65.6563   \n",
       "305          306                     Allison, Master. Hudson Trevor  65.6563   \n",
       "306          307                            Fleming, Miss. Margaret  65.6563   \n",
       "307          308  Penasco y Castellana, Mrs. Victor de Satode (M...  65.6563   \n",
       "310          311                     Hays, Miss. Margaret Bechstein  65.6563   \n",
       "311          312                         Ryerson, Miss. Emily Borie  65.6563   \n",
       "318          319                           Wick, Miss. Mary Natalie  65.6563   \n",
       "319          320  Spedden, Mrs. Frederic Oakley (Margaretta Corn...  65.6563   \n",
       "\n",
       "    Survived  \n",
       "445        1  \n",
       "291        1  \n",
       "299        1  \n",
       "305        1  \n",
       "306        1  \n",
       "307        1  \n",
       "310        1  \n",
       "311        1  \n",
       "318        1  \n",
       "319        1  "
      ]
     },
     "execution_count": 642,
     "metadata": {},
     "output_type": "execute_result"
    }
   ],
   "source": [
    "Top_pass = df.sort_values(by=\"Fare\", ascending=False).head(10)[[\"PassengerId\",\"Name\", \"Fare\", \"Survived\"]]\n",
    "Top_pass\n",
    "\n",
    "#They all survived"
   ]
  },
  {
   "cell_type": "code",
   "execution_count": 644,
   "id": "2c89019d-caba-4ec1-99d4-6921f0b758e2",
   "metadata": {},
   "outputs": [
    {
     "data": {
      "image/png": "[encoded data removed]",
      "text/plain": [
       "<Figure size 1000x600 with 1 Axes>"
      ]
     },
     "metadata": {},
     "output_type": "display_data"
    }
   ],
   "source": [
    "plt.figure(figsize=(10, 6))\n",
    "sns.barplot(\n",
    "    data=Top_pass,\n",
    "    x=\"Fare\",\n",
    "    y=\"Name\",\n",
    "    hue=\"Survived\",  # Color bars by survival status\n",
    "    palette=\"Set2\"\n",
    ")\n",
    "\n",
    "# Add labels and title\n",
    "plt.xlabel(\"Fare\")\n",
    "plt.ylabel(\"Passenger Name\")\n",
    "plt.title(\"Top 10 Passengers Who Paid the Highest Fares\")\n",
    "plt.legend(title=\"Survived\", labels=[\"No\", \"Yes\"])\n",
    "\n",
    "plt.show()"
   ]
  },
  {
   "cell_type": "markdown",
   "id": "5d1aa97f-7ed2-4a80-b9de-ebfe1dbf2fb0",
   "metadata": {},
   "source": [
    "**14.If you create a “Group Size” column (SibSp + Parch + 1), do larger groups have better or worse survival chances?**"
   ]
  },
  {
   "cell_type": "code",
   "execution_count": 685,
   "id": "296ea9c3-860d-41c2-87f1-0ce1aec25378",
   "metadata": {},
   "outputs": [
    {
     "name": "stderr",
     "output_type": "stream",
     "text": [
      "/var/folders/12/gk_y01d977l0jb0_5w_bgbdc0000gn/T/ipykernel_35012/3983993999.py:1: SettingWithCopyWarning: \n",
      "A value is trying to be set on a copy of a slice from a DataFrame.\n",
      "Try using .loc[row_indexer,col_indexer] = value instead\n",
      "\n",
      "See the caveats in the documentation: https://pandas.pydata.org/pandas-docs/stable/user_guide/indexing.html#returning-a-view-versus-a-copy\n",
      "  dg=df[\"group_size\"]=df[\"SibSp\"].astype(int)+df[\"Parch\"].astype(int)+1\n"
     ]
    },
    {
     "data": {
      "text/plain": [
       "Text(0, 0.5, 'Number of Survivals')"
      ]
     },
     "execution_count": 685,
     "metadata": {},
     "output_type": "execute_result"
    },
    {
     "data": {
      "image/png": "[encoded data removed]",
      "text/plain": [
       "<Figure size 1000x600 with 1 Axes>"
      ]
     },
     "metadata": {},
     "output_type": "display_data"
    }
   ],
   "source": [
    "dg=df[\"group_size\"]=df[\"SibSp\"].astype(int)+df[\"Parch\"].astype(int)+1\n",
    "\n",
    "plt.figure(figsize=(10, 6))\n",
    "sns.countplot(\n",
    "    data=df,\n",
    "    x=dg,\n",
    "    hue=\"Survived\",  # Color bars by survival status\n",
    "    palette=\"Set2\"\n",
    ")\n",
    "plt.xlabel(\"Group Size\")\n",
    "plt.ylabel(\"Number of Survivals\")\n",
    "\n",
    "# Larger groups has somehow the worse survival chances"
   ]
  },
  {
   "cell_type": "markdown",
   "id": "204b419e-fb59-420f-bc62-30eb843d04c0",
   "metadata": {},
   "source": [
    "**15.Among female passengers, which class had the highest survival rate? Does the same trend hold for male passengers?**"
   ]
  },
  {
   "cell_type": "code",
   "execution_count": 677,
   "id": "01446939-cb01-476e-aca5-1081c1a59066",
   "metadata": {},
   "outputs": [
    {
     "name": "stderr",
     "output_type": "stream",
     "text": [
      "/var/folders/12/gk_y01d977l0jb0_5w_bgbdc0000gn/T/ipykernel_35012/1296100871.py:1: FutureWarning: The default of observed=False is deprecated and will be changed to True in a future version of pandas. Pass observed=False to retain current behavior or observed=True to adopt the future default and silence this warning.\n",
      "  p_s= only_survived.groupby(['Pclass'])['Sex'].value_counts().reset_index(name='Count')\n"
     ]
    },
    {
     "data": {
      "text/html": [
       "<div>\n",
       "<style scoped>\n",
       "    .dataframe tbody tr th:only-of-type {\n",
       "        vertical-align: middle;\n",
       "    }\n",
       "\n",
       "    .dataframe tbody tr th {\n",
       "        vertical-align: top;\n",
       "    }\n",
       "\n",
       "    .dataframe thead th {\n",
       "        text-align: right;\n",
       "    }\n",
       "</style>\n",
       "<table border=\"1\" class=\"dataframe\">\n",
       "  <thead>\n",
       "    <tr style=\"text-align: right;\">\n",
       "      <th></th>\n",
       "      <th>Pclass</th>\n",
       "      <th>Sex</th>\n",
       "      <th>Count</th>\n",
       "    </tr>\n",
       "  </thead>\n",
       "  <tbody>\n",
       "    <tr>\n",
       "      <th>0</th>\n",
       "      <td>1</td>\n",
       "      <td>male</td>\n",
       "      <td>77</td>\n",
       "    </tr>\n",
       "    <tr>\n",
       "      <th>1</th>\n",
       "      <td>1</td>\n",
       "      <td>female</td>\n",
       "      <td>3</td>\n",
       "    </tr>\n",
       "    <tr>\n",
       "      <th>2</th>\n",
       "      <td>2</td>\n",
       "      <td>male</td>\n",
       "      <td>91</td>\n",
       "    </tr>\n",
       "    <tr>\n",
       "      <th>3</th>\n",
       "      <td>2</td>\n",
       "      <td>female</td>\n",
       "      <td>6</td>\n",
       "    </tr>\n",
       "    <tr>\n",
       "      <th>4</th>\n",
       "      <td>3</td>\n",
       "      <td>male</td>\n",
       "      <td>300</td>\n",
       "    </tr>\n",
       "    <tr>\n",
       "      <th>5</th>\n",
       "      <td>3</td>\n",
       "      <td>female</td>\n",
       "      <td>72</td>\n",
       "    </tr>\n",
       "  </tbody>\n",
       "</table>\n",
       "</div>"
      ],
      "text/plain": [
       "  Pclass     Sex  Count\n",
       "0      1    male     77\n",
       "1      1  female      3\n",
       "2      2    male     91\n",
       "3      2  female      6\n",
       "4      3    male    300\n",
       "5      3  female     72"
      ]
     },
     "execution_count": 677,
     "metadata": {},
     "output_type": "execute_result"
    }
   ],
   "source": [
    "p_s= only_survived.groupby(['Pclass'])['Sex'].value_counts().reset_index(name='Count')\n",
    "\n",
    "p_s\n"
   ]
  },
  {
   "cell_type": "code",
   "execution_count": 679,
   "id": "e5387c17-ca24-4deb-a98a-b638036fbacb",
   "metadata": {},
   "outputs": [
    {
     "data": {
      "image/png": "[encoded data removed]",
      "text/plain": [
       "<Figure size 800x600 with 1 Axes>"
      ]
     },
     "metadata": {},
     "output_type": "display_data"
    }
   ],
   "source": [
    "plt.figure(figsize=(8,6))\n",
    "sns.barplot(data=p_s, x='Pclass', y='Count', hue='Sex', palette=['pink', 'orange'])\n",
    "plt.xlabel('Passenger Class')\n",
    "plt.ylabel('Number of Passengers')\n",
    "plt.title('Number of Survival Passengers by Sex in Each Class')\n",
    "plt.show()"
   ]
  },
  {
   "cell_type": "code",
   "execution_count": 680,
   "id": "7068d9a9-9b7a-44e5-99f8-ffd17cf543dd",
   "metadata": {},
   "outputs": [],
   "source": [
    "#Class 3 has the highest survival rate for males and females"
   ]
  }
 ],
 "metadata": {
  "kernelspec": {
   "display_name": "Python [conda env:base] *",
   "language": "python",
   "name": "conda-base-py"
  },
  "language_info": {
   "codemirror_mode": {
    "name": "ipython",
    "version": 3
   },
   "file_extension": ".py",
   "mimetype": "text/x-python",
   "name": "python",
   "nbconvert_exporter": "python",
   "pygments_lexer": "ipython3",
   "version": "3.13.5"
  }
 },
 "nbformat": 4,
 "nbformat_minor": 5
}
